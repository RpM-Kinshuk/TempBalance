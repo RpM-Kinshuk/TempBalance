{
 "cells": [
  {
   "cell_type": "code",
   "execution_count": 1,
   "metadata": {},
   "outputs": [
    {
     "data": {
      "application/vnd.jupyter.widget-view+json": {
       "model_id": "4168eee582d94565a80afde348d13c1e",
       "version_major": 2,
       "version_minor": 0
      },
      "text/plain": [
       "interactive(children=(IntSlider(value=50, description='Row Samples:', min=10, step=10), FloatSlider(value=2.0,…"
      ]
     },
     "metadata": {},
     "output_type": "display_data"
    },
    {
     "data": {
      "text/plain": [
       "<function __main__.visualize_data(row_samples, q_ratio, num_ops)>"
      ]
     },
     "execution_count": 1,
     "metadata": {},
     "output_type": "execute_result"
    }
   ],
   "source": [
    "import os\n",
    "import numpy as np\n",
    "import pandas as pd\n",
    "import matplotlib.pyplot as plt\n",
    "from matplotlib import cm\n",
    "from matplotlib.colors import Normalize\n",
    "from ipywidgets import interact, IntSlider, FloatSlider, Dropdown\n",
    "\n",
    "seed = 42\n",
    "model = \"resnet18\"\n",
    "dataset = \"cifar100\"\n",
    "# Define the base directory\n",
    "base_dir = f\"/jumbo/yaoqingyang/kinshuk/TempBalance/results/flatten/{seed}/{model}/{dataset}\"\n",
    "\n",
    "# Function to visualize the data\n",
    "def visualize_data(row_samples, q_ratio, num_ops):\n",
    "    # Construct the directory path\n",
    "    slide = True\n",
    "    tmp_str = f\"row_{row_samples}/qr_{q_ratio}/ops_{num_ops}\"\n",
    "    if not slide:\n",
    "        tmp_str = \"\"\n",
    "    data_dir = f\"{base_dir}/slide_{slide}/{tmp_str}/esd_est\"\n",
    "    \n",
    "    # Collect all epoch files\n",
    "    if not os.path.exists(data_dir):\n",
    "        print(f\"Directory does not exist: {data_dir}\")\n",
    "        return\n",
    "    \n",
    "    epoch_files = [f for f in os.listdir(data_dir) if f.startswith(\"epoch_\")]\n",
    "    if not epoch_files:\n",
    "        print(f\"No epoch files found in: {data_dir}\")\n",
    "        return\n",
    "    \n",
    "    epoch_files.sort(key=lambda f: int(f.split('_')[1]))\n",
    "    epoch_files = epoch_files[:50]  # Restrict to the first 50 epochs\n",
    "    \n",
    "    # Initialize data storage\n",
    "    layer_alpha_data = []\n",
    "    \n",
    "    # Process each epoch file\n",
    "    for _, epoch_file in enumerate(epoch_files):\n",
    "        epoch_path = os.path.join(data_dir, epoch_file)\n",
    "        epoch_number = int(epoch_file.split('_')[1])  # Extract epoch number from filename\n",
    "        df = pd.read_csv(epoch_path)\n",
    "        df['epoch'] = epoch_number\n",
    "        layer_alpha_data.append(df[['alpha', 'epoch']])  # Keep only 'alpha' and 'epoch'\n",
    "    \n",
    "    # Concatenate data from all epochs\n",
    "    all_data = pd.concat(layer_alpha_data, ignore_index=True)\n",
    "    \n",
    "    # Add layer index\n",
    "    all_data['layer_index'] = all_data.groupby('epoch').cumcount()\n",
    "    \n",
    "    # Set color map based on epochs\n",
    "    num_epochs = len(epoch_files)\n",
    "    cmap = plt.get_cmap('jet_r')\n",
    "    colors = [cmap(i / num_epochs) for i in range(num_epochs)]\n",
    "    \n",
    "    # Create the figure and axes\n",
    "    fig, ax = plt.subplots(figsize=(12, 8))\n",
    "    fig.patch.set_facecolor('white')\n",
    "    \n",
    "    # Plot alpha values\n",
    "    for epoch_number, color in enumerate(colors):\n",
    "        epoch_data = all_data[all_data['epoch'] == epoch_number]\n",
    "        ax.plot(\n",
    "            epoch_data['layer_index'],\n",
    "            epoch_data['alpha'],\n",
    "            color=color,\n",
    "            alpha=0.8,\n",
    "            linewidth=2.5,\n",
    "            linestyle='-',\n",
    "        )\n",
    "    \n",
    "    # Customize grid style\n",
    "    ax.grid(True, linestyle='--', linewidth=0.5, alpha=0.7)\n",
    "    \n",
    "    # Set axis labels and title\n",
    "    ax.set_title(f\"ResNet | Layer Sampling: {slide}\", fontsize=18, fontweight='bold', pad=15)\n",
    "    ax.set_xlabel(\"Layer Index\", fontsize=16)\n",
    "    ax.set_ylabel(\"Alpha\", fontsize=16)\n",
    "    ax.tick_params(axis='both', which='major', labelsize=14)\n",
    "    \n",
    "    # Add colorbar\n",
    "    norm = Normalize(vmin=0, vmax=num_epochs)\n",
    "    sm = cm.ScalarMappable(cmap=cmap, norm=norm)\n",
    "    sm.set_array([])\n",
    "    cbar = fig.colorbar(sm, ax=ax, orientation='vertical', pad=0.02)\n",
    "    cbar.set_label('Training Epochs', fontsize=16)\n",
    "    cbar.ax.tick_params(labelsize=14)\n",
    "    \n",
    "    # Adjust layout\n",
    "    plt.tight_layout()\n",
    "    plt.ylim(1.25, 3)\n",
    "    \n",
    "    # Display the plot\n",
    "    plt.show()\n",
    "\n",
    "# Define interactive widgets\n",
    "row_samples_widget = IntSlider(value=50, min=10, max=100, step=10, description='Row Samples:')\n",
    "q_ratio_widget = FloatSlider(value=2.0, min=1.0, max=5.0, step=0.5, description='Q Ratio:')\n",
    "num_ops_widget = IntSlider(value=10, min=1, max=20, step=1, description='Num Ops:')\n",
    "\n",
    "# Create an interactive widget\n",
    "interact(visualize_data, \n",
    "         row_samples=row_samples_widget, \n",
    "         q_ratio=q_ratio_widget, \n",
    "         num_ops=num_ops_widget)\n"
   ]
  }
 ],
 "metadata": {
  "kernelspec": {
   "display_name": "selft",
   "language": "python",
   "name": "python3"
  },
  "language_info": {
   "codemirror_mode": {
    "name": "ipython",
    "version": 3
   },
   "file_extension": ".py",
   "mimetype": "text/x-python",
   "name": "python",
   "nbconvert_exporter": "python",
   "pygments_lexer": "ipython3",
   "version": "3.12.2"
  }
 },
 "nbformat": 4,
 "nbformat_minor": 2
}
